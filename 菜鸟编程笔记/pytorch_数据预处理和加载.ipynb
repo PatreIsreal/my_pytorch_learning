{
 "cells": [
  {
   "cell_type": "markdown",
   "metadata": {},
   "source": [
    "## 方法介绍"
   ]
  },
  {
   "cell_type": "markdown",
   "metadata": {},
   "source": [
    "- 自定义 Dataset：通过继承 `torch.utils.data.Dataset` 来实现自定义数据集。\n",
    "\n",
    "- DataLoader：DataLoader 接收 `torchvision.datasets` 参数，并使用 `torch.utils.data.DataLoader` 来加载数据。\n",
    "\n",
    "- 数据预处理模块：使用 `torchvision.transforms` 来进行数据预处理，比如数据增强、归一化等。\n",
    "\n",
    "- 内置数据集：`torchvision.datasets` 提供了一些常见数据集的加载器，比如 MNIST、CIFAR-10 等。\n",
    "\n",
    "- 多个数据集：通过组合多个 Dataset，可以实现数据集的混合和拼接。"
   ]
  },
  {
   "cell_type": "markdown",
   "metadata": {},
   "source": [
    "### 自定义Dateset"
   ]
  },
  {
   "cell_type": "code",
   "execution_count": 1,
   "metadata": {},
   "outputs": [],
   "source": [
    "import torch\n",
    "from torch.utils.data import Dataset\n",
    "\n",
    "# 自定义数据集类\n",
    "# 创建一个新的类MyDataset，继承自torch.utils.data.Dataset，重写__init__、__len__和__getitem__方法\n",
    "class MyDataset(Dataset):\n",
    "    # __init__：这是 Python 中的一个特殊方法，每次你创建 MyDataset 的实例时，它都会自动运行。\n",
    "    def __init__(self, X_data, Y_data):\n",
    "        \"\"\"\n",
    "        初始化数据集，X_data 和 Y_data 是两个列表或数组\n",
    "        X_data: 输入特征\n",
    "        Y_data: 目标标签\n",
    "        \"\"\"\n",
    "        #把传入的 X_data 和 Y_data 保存下来，分别存在 self.X_data 和 self.Y_data 里。\n",
    "        # self 就像是类的“记事本”，用来记录东西。\n",
    "        self.X_data = X_data\n",
    "        self.Y_data = Y_data\n",
    "\n",
    "    def __len__(self):\n",
    "        \"\"\"返回数据集的大小\"\"\"\n",
    "        # 如果 X_data = [[1, 2], [3, 4], [5, 6]]，那 len(self.X_data) 就是 3，因为有 3 组数据。\n",
    "        return len(self.X_data)\n",
    "\n",
    "    def __getitem__(self, idx):\n",
    "        #__getitem__：又一个特殊方法。当你用索引访问数据（比如 dataset[0]）时，它会被调用。\n",
    "        \"\"\"返回指定索引的数据\"\"\"\n",
    "        # 从 self.X_data 里取出第 idx 条数据，比如 self.X_data[0] 可能是 [1, 2]。\n",
    "        # 从 self.Y_data 里取出对应的标签，比如 self.Y_data[0] 可能是 1。\n",
    "        x = torch.tensor(self.X_data[idx], dtype=torch.float32)  # 转换为 Tensor\n",
    "        y = torch.tensor(self.Y_data[idx], dtype=torch.float32)\n",
    "        return x, y\n",
    "\n",
    "# 示例数据\n",
    "X_data = [[1, 2], [3, 4], [5, 6], [7, 8]]  # 输入特征\n",
    "Y_data = [1, 0, 1, 0]  # 目标标签\n",
    "\n",
    "# 创建数据集实例\n",
    "# 这里我们用 X_data 和 Y_data 创建了一个 MyDataset 的实例，叫 dataset。\n",
    "# 创建之后，dataset 就成了一个“数据管理员”，里面装好了我们的数据，可以随时拿来用。\n",
    "dataset = MyDataset(X_data, Y_data)"
   ]
  },
  {
   "cell_type": "markdown",
   "metadata": {},
   "source": [
    "### Dataloader"
   ]
  },
  {
   "cell_type": "code",
   "execution_count": 8,
   "metadata": {},
   "outputs": [
    {
     "name": "stdout",
     "output_type": "stream",
     "text": [
      "Batch 1:\n",
      "Inputs: tensor([[5., 6.],\n",
      "        [3., 4.]])\n",
      "Labels: tensor([1., 0.])\n",
      "Batch 2:\n",
      "Inputs: tensor([[7., 8.],\n",
      "        [1., 2.]])\n",
      "Labels: tensor([0., 1.])\n"
     ]
    }
   ],
   "source": [
    "from torch.utils.data import DataLoader\n",
    "\n",
    "# 创建 DataLoader 实例，batch_size 设置每次加载的样本数量\n",
    "dataloader = DataLoader(dataset, batch_size=2, shuffle=True)\n",
    "\n",
    "# 打印加载的数据\n",
    "for epoch in range(1):\n",
    "    for batch_idx, (inputs, labels) in enumerate(dataloader):\n",
    "        print(f'Batch {batch_idx + 1}:')\n",
    "        print(f'Inputs: {inputs}')\n",
    "        print(f'Labels: {labels}')"
   ]
  }
 ],
 "metadata": {
  "kernelspec": {
   "display_name": "d2l",
   "language": "python",
   "name": "python3"
  },
  "language_info": {
   "codemirror_mode": {
    "name": "ipython",
    "version": 3
   },
   "file_extension": ".py",
   "mimetype": "text/x-python",
   "name": "python",
   "nbconvert_exporter": "python",
   "pygments_lexer": "ipython3",
   "version": "3.9.21"
  }
 },
 "nbformat": 4,
 "nbformat_minor": 2
}
