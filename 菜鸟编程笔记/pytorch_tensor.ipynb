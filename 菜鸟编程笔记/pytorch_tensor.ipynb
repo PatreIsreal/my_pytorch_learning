{
 "cells": [
  {
   "cell_type": "code",
   "execution_count": 2,
   "metadata": {},
   "outputs": [
    {
     "name": "stdout",
     "output_type": "stream",
     "text": [
      "tensor([2, 3])\n"
     ]
    }
   ],
   "source": [
    "import torch\n",
    "X = torch.tensor([2, 3])\n",
    "print(X)"
   ]
  },
  {
   "cell_type": "code",
   "execution_count": 4,
   "metadata": {},
   "outputs": [
    {
     "name": "stdout",
     "output_type": "stream",
     "text": [
      "tensor([2, 3], dtype=torch.int32)\n"
     ]
    }
   ],
   "source": [
    "import numpy as np\n",
    "# 有一个numpy数组，通过torch.from_numpy()方法将其转换为PyTorch张量\n",
    "X = np.array([2, 3])\n",
    "tensor = torch.from_numpy(X)\n",
    "print(tensor)"
   ]
  },
  {
   "cell_type": "code",
   "execution_count": 5,
   "metadata": {},
   "outputs": [
    {
     "name": "stdout",
     "output_type": "stream",
     "text": [
      "2D Tensor (Matrix):\n",
      " tensor([[-9,  4,  2,  5,  7],\n",
      "        [ 3,  0, 12,  8,  6],\n",
      "        [ 1, 23, -6, 45,  2],\n",
      "        [22,  3, -1, 72,  6]])\n",
      "Shape: torch.Size([4, 5])\n"
     ]
    }
   ],
   "source": [
    "# 创建2D张量，也就是矩阵\n",
    "tensor_2d = torch.tensor([\n",
    "    [-9, 4, 2, 5, 7],\n",
    "    [3, 0, 12, 8, 6],\n",
    "    [1, 23, -6, 45, 2],\n",
    "    [22, 3, -1, 72, 6]\n",
    "])\n",
    "print(\"2D Tensor (Matrix):\\n\", tensor_2d)\n",
    "print(\"Shape:\", tensor_2d.shape)  # 形状"
   ]
  },
  {
   "cell_type": "code",
   "execution_count": 7,
   "metadata": {},
   "outputs": [
    {
     "name": "stdout",
     "output_type": "stream",
     "text": [
      "Shape: torch.Size([3, 4, 5])\n",
      "Shape: torch.Size([2, 3, 4, 5])\n",
      "Shape: torch.Size([2, 2, 3, 4, 5])\n"
     ]
    }
   ],
   "source": [
    "# 创建 3D 张量（立方体）\n",
    "tensor_3d = torch.stack([tensor_2d, tensor_2d + 10, tensor_2d - 5])  # 堆叠 3 个 2D 张量\n",
    "# print(\"3D Tensor (Cube):\\n\", tensor_3d)\n",
    "print(\"Shape:\", tensor_3d.shape)  # 形状\n",
    "\n",
    "# 创建 4D 张量（向量的立方体）\n",
    "tensor_4d = torch.stack([tensor_3d, tensor_3d + 100])  # 堆叠 2 个 3D 张量\n",
    "# print(\"4D Tensor (Vector of Cubes):\\n\", tensor_4d)\n",
    "print(\"Shape:\", tensor_4d.shape)  # 形状\n",
    "\n",
    "# 创建 5D 张量（矩阵的立方体）\n",
    "tensor_5d = torch.stack([tensor_4d, tensor_4d + 1000])  # 堆叠 2 个 4D 张量\n",
    "# print(\"5D Tensor (Matrix of Cubes):\\n\", tensor_5d)\n",
    "print(\"Shape:\", tensor_5d.shape)  # 形状"
   ]
  },
  {
   "cell_type": "markdown",
   "metadata": {},
   "source": [
    "### 实例"
   ]
  },
  {
   "cell_type": "code",
   "execution_count": 8,
   "metadata": {},
   "outputs": [
    {
     "name": "stdout",
     "output_type": "stream",
     "text": [
      "Tensor:\n",
      " tensor([[1., 2., 3.],\n",
      "        [4., 5., 6.]])\n",
      "Shape: torch.Size([2, 3])\n",
      "Size: torch.Size([2, 3])\n",
      "Data Type: torch.float32\n",
      "Device: cpu\n",
      "Dimensions: 2\n",
      "Total Elements: 6\n",
      "Requires Grad: False\n",
      "Is CUDA: False\n",
      "Is Contiguous: True\n",
      "Single Element Value: 42\n",
      "Transposed Tensor:\n",
      " tensor([[1., 4.],\n",
      "        [2., 5.],\n",
      "        [3., 6.]])\n"
     ]
    }
   ],
   "source": [
    "import torch\n",
    "\n",
    "# 创建一个 2D 张量\n",
    "tensor = torch.tensor([[1, 2, 3], [4, 5, 6]], dtype=torch.float32)\n",
    "\n",
    "# 张量的属性\n",
    "print(\"Tensor:\\n\", tensor)\n",
    "print(\"Shape:\", tensor.shape)  # 获取形状\n",
    "print(\"Size:\", tensor.size())  # 获取形状（另一种方法）\n",
    "print(\"Data Type:\", tensor.dtype)  # 数据类型\n",
    "print(\"Device:\", tensor.device)  # 设备\n",
    "print(\"Dimensions:\", tensor.dim())  # 维度数\n",
    "print(\"Total Elements:\", tensor.numel())  # 元素总数\n",
    "print(\"Requires Grad:\", tensor.requires_grad)  # 是否启用梯度\n",
    "print(\"Is CUDA:\", tensor.is_cuda)  # 是否在 GPU 上\n",
    "print(\"Is Contiguous:\", tensor.is_contiguous())  # 是否连续存储\n",
    "\n",
    "# 获取单元素值\n",
    "single_value = torch.tensor(42)\n",
    "print(\"Single Element Value:\", single_value.item())\n",
    "\n",
    "# 转置张量\n",
    "tensor_T = tensor.T\n",
    "print(\"Transposed Tensor:\\n\", tensor_T)"
   ]
  },
  {
   "cell_type": "markdown",
   "metadata": {},
   "source": [
    "### 张量的操作实例"
   ]
  },
  {
   "cell_type": "code",
   "execution_count": 10,
   "metadata": {},
   "outputs": [
    {
     "name": "stdout",
     "output_type": "stream",
     "text": [
      "原始张量:\n",
      " tensor([[1., 2., 3.],\n",
      "        [4., 5., 6.]])\n",
      "\n",
      "【索引和切片】\n",
      "获取第一行: tensor([1., 2., 3.])\n",
      "获取第一行第一列的元素: tensor(1.)\n",
      "获取第二列的所有元素: tensor([2., 5.])\n"
     ]
    }
   ],
   "source": [
    "import torch\n",
    "\n",
    "# 创建一个 2D 张量\n",
    "tensor = torch.tensor([[1, 2, 3], [4, 5, 6]], dtype=torch.float32)\n",
    "print(\"原始张量:\\n\", tensor)\n",
    "\n",
    "# 1. **索引和切片操作**\n",
    "print(\"\\n【索引和切片】\")\n",
    "print(\"获取第一行:\", tensor[0])  # 获取第一行\n",
    "print(\"获取第一行第一列的元素:\", tensor[0, 0])  # 获取特定元素\n",
    "print(\"获取第二列的所有元素:\", tensor[:, 1])  # 获取第二列所有元素\n"
   ]
  },
  {
   "cell_type": "code",
   "execution_count": null,
   "metadata": {},
   "outputs": [
    {
     "name": "stdout",
     "output_type": "stream",
     "text": [
      "\n",
      "【形状变换】\n",
      "改变形状后的张量:\n",
      " tensor([[1., 2.],\n",
      "        [3., 4.],\n",
      "        [5., 6.]])\n",
      "展平后的张量:\n",
      " tensor([1., 2., 3., 4., 5., 6.])\n"
     ]
    }
   ],
   "source": [
    "# 2. **形状变换操作**\n",
    "print(\"\\n【形状变换】\")\n",
    "reshaped = tensor.view(3, 2)  # 改变张量形状为 3x2\n",
    "print(\"改变形状后的张量:\\n\", reshaped)\n",
    "flattened = tensor.flatten()  # 将张量展平成一维\n",
    "print(\"展平后的张量:\\n\", flattened)"
   ]
  },
  {
   "cell_type": "code",
   "execution_count": 12,
   "metadata": {},
   "outputs": [
    {
     "name": "stdout",
     "output_type": "stream",
     "text": [
      "\n",
      "【数学运算】\n",
      "张量加 10:\n",
      " tensor([[11., 12., 13.],\n",
      "        [14., 15., 16.]])\n",
      "张量乘 2:\n",
      " tensor([[ 2.,  4.,  6.],\n",
      "        [ 8., 10., 12.]])\n",
      "张量元素的和: 21.0\n"
     ]
    }
   ],
   "source": [
    "# 3. **数学运算操作**\n",
    "print(\"\\n【数学运算】\")\n",
    "tensor_add = tensor + 10  # 张量加法\n",
    "print(\"张量加 10:\\n\", tensor_add)\n",
    "tensor_mul = tensor * 2  # 张量乘法\n",
    "print(\"张量乘 2:\\n\", tensor_mul)\n",
    "tensor_sum = tensor.sum()  # 计算所有元素的和\n",
    "print(\"张量元素的和:\", tensor_sum.item())"
   ]
  },
  {
   "cell_type": "code",
   "execution_count": null,
   "metadata": {},
   "outputs": [
    {
     "name": "stdout",
     "output_type": "stream",
     "text": [
      "\n",
      "【与其他张量操作】\n",
      "另一个张量:\n",
      " tensor([[1., 1., 1.],\n",
      "        [1., 1., 1.]])\n",
      "矩阵乘法结果:\n",
      " tensor([[ 6.,  6.],\n",
      "        [15., 15.]])\n"
     ]
    }
   ],
   "source": [
    "# 4. **与其他张量的操作**\n",
    "print(\"\\n【与其他张量操作】\")\n",
    "tensor2 = torch.tensor([[1, 1, 1], [1, 1, 1]], dtype=torch.float32)\n",
    "print(\"另一个张量:\\n\", tensor2)\n",
    "# 矩阵乘法：2*3的矩阵乘以3*2的矩阵，结果是2*2的矩阵\n",
    "tensor_dot = torch.matmul(tensor, tensor2.T)  # 张量矩阵乘法\n",
    "print(\"矩阵乘法结果:\\n\", tensor_dot)"
   ]
  },
  {
   "cell_type": "code",
   "execution_count": 14,
   "metadata": {},
   "outputs": [
    {
     "name": "stdout",
     "output_type": "stream",
     "text": [
      "\n",
      "【条件判断和筛选】\n",
      "大于 3 的元素的布尔掩码:\n",
      " tensor([[False, False, False],\n",
      "        [ True,  True,  True]])\n",
      "大于 3 的元素:\n",
      " tensor([4., 5., 6.])\n"
     ]
    }
   ],
   "source": [
    "# 5. **条件判断和筛选**\n",
    "print(\"\\n【条件判断和筛选】\")\n",
    "mask = tensor > 3  # 创建一个布尔掩码\n",
    "print(\"大于 3 的元素的布尔掩码:\\n\", mask)\n",
    "filtered_tensor = tensor[tensor > 3]  # 筛选出符合条件的元素\n",
    "print(\"大于 3 的元素:\\n\", filtered_tensor)"
   ]
  },
  {
   "cell_type": "markdown",
   "metadata": {},
   "source": [
    "### 张量和numpy数组的互操作"
   ]
  },
  {
   "cell_type": "code",
   "execution_count": 16,
   "metadata": {},
   "outputs": [
    {
     "name": "stdout",
     "output_type": "stream",
     "text": [
      "1. NumPy 转为 PyTorch 张量\n",
      "NumPy 数组:\n",
      " [[1 2 3]\n",
      " [4 5 6]]\n",
      "转换后的 PyTorch 张量:\n",
      " tensor([[1, 2, 3],\n",
      "        [4, 5, 6]], dtype=torch.int32)\n",
      "修改后的 NumPy 数组:\n",
      " [[100   2   3]\n",
      " [  4   5   6]]\n",
      "PyTorch 张量也会同步变化:\n",
      " tensor([[100,   2,   3],\n",
      "        [  4,   5,   6]], dtype=torch.int32)\n"
     ]
    }
   ],
   "source": [
    "import torch\n",
    "import numpy as np\n",
    "\n",
    "# 1. NumPy 数组转换为 PyTorch 张量\n",
    "print(\"1. NumPy 转为 PyTorch 张量\")\n",
    "numpy_array = np.array([[1, 2, 3], [4, 5, 6]])\n",
    "print(\"NumPy 数组:\\n\", numpy_array)\n",
    "\n",
    "# 使用 torch.from_numpy() 将 NumPy 数组转换为张量\n",
    "tensor_from_numpy = torch.from_numpy(numpy_array)\n",
    "print(\"转换后的 PyTorch 张量:\\n\", tensor_from_numpy)\n",
    "\n",
    "# 修改 NumPy 数组，观察张量的变化（共享内存）\n",
    "numpy_array[0, 0] = 100\n",
    "print(\"修改后的 NumPy 数组:\\n\", numpy_array)\n",
    "print(\"PyTorch 张量也会同步变化:\\n\", tensor_from_numpy)\n"
   ]
  },
  {
   "cell_type": "code",
   "execution_count": null,
   "metadata": {},
   "outputs": [
    {
     "name": "stdout",
     "output_type": "stream",
     "text": [
      "2. PyTorch 张量转为 NumPy 数组\n",
      "PyTorch 张量:\n",
      " tensor([[ 7.,  8.,  9.],\n",
      "        [10., 11., 12.]])\n",
      "转换后的 NumPy 数组:\n",
      " [[ 7.  8.  9.]\n",
      " [10. 11. 12.]]\n",
      "修改后的 PyTorch 张量:\n",
      " tensor([[77.,  8.,  9.],\n",
      "        [10., 11., 12.]])\n",
      "NumPy 数组也会同步变化:\n",
      " [[77.  8.  9.]\n",
      " [10. 11. 12.]]\n",
      "\n",
      "3. 使用 clone() 保证独立数据\n",
      "原始张量:\n",
      " tensor([[13., 14., 15.],\n",
      "        [16., 17., 18.]])\n",
      "修改后的张量:\n",
      " tensor([[ 0., 14., 15.],\n",
      "        [16., 17., 18.]])\n",
      "NumPy 数组（不会同步变化）:\n",
      " [[13. 14. 15.]\n",
      " [16. 17. 18.]]\n"
     ]
    }
   ],
   "source": [
    "# 2. PyTorch 张量转换为 NumPy 数组\n",
    "print(\"2. PyTorch 张量转为 NumPy 数组\")\n",
    "tensor = torch.tensor([[7, 8, 9], [10, 11, 12]], dtype=torch.float32)\n",
    "print(\"PyTorch 张量:\\n\", tensor)\n",
    "\n",
    "# 使用 tensor.numpy() 将张量转换为 NumPy 数组\n",
    "numpy_from_tensor = tensor.numpy()\n",
    "print(\"转换后的 NumPy 数组:\\n\", numpy_from_tensor)\n",
    "\n",
    "# 修改张量，观察 NumPy 数组的变化（共享内存）\n",
    "tensor[0, 0] = 77\n",
    "print(\"修改后的 PyTorch 张量:\\n\", tensor)\n",
    "print(\"NumPy 数组也会同步变化:\\n\", numpy_from_tensor)\n"
   ]
  },
  {
   "cell_type": "code",
   "execution_count": 21,
   "metadata": {},
   "outputs": [
    {
     "name": "stdout",
     "output_type": "stream",
     "text": [
      "\n",
      "3. 使用 clone() 保证独立数据\n",
      "原始张量:\n",
      " tensor([[13., 14., 15.],\n",
      "        [16., 17., 18.]])\n",
      "修改后的张量:\n",
      " tensor([[ 0., 14., 15.],\n",
      "        [16., 17., 18.]])\n",
      "NumPy 数组（不会同步变化）:\n",
      " [[13. 14. 15.]\n",
      " [16. 17. 18.]]\n"
     ]
    }
   ],
   "source": [
    "# 3. 注意：不共享内存的情况（需要复制数据）\n",
    "print(\"\\n3. 使用 clone() 保证独立数据\")\n",
    "tensor_independent = torch.tensor([[13, 14, 15], [16, 17, 18]], dtype=torch.float32)\n",
    "numpy_independent = tensor_independent.clone().numpy()  # 使用 clone 复制数据\n",
    "print(\"原始张量:\\n\", tensor_independent)\n",
    "tensor_independent[0, 0] = 0  # 修改张量数据\n",
    "print(\"修改后的张量:\\n\", tensor_independent)\n",
    "print(\"NumPy 数组（不会同步变化）:\\n\", numpy_independent)"
   ]
  }
 ],
 "metadata": {
  "kernelspec": {
   "display_name": "d2l",
   "language": "python",
   "name": "python3"
  },
  "language_info": {
   "codemirror_mode": {
    "name": "ipython",
    "version": 3
   },
   "file_extension": ".py",
   "mimetype": "text/x-python",
   "name": "python",
   "nbconvert_exporter": "python",
   "pygments_lexer": "ipython3",
   "version": "3.9.21"
  }
 },
 "nbformat": 4,
 "nbformat_minor": 2
}
