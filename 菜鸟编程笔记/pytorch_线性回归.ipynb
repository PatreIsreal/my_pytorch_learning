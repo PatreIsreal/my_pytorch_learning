{
 "cells": [
  {
   "cell_type": "markdown",
   "metadata": {},
   "source": [
    "## 准备数据"
   ]
  },
  {
   "cell_type": "code",
   "execution_count": 18,
   "metadata": {},
   "outputs": [
    {
     "name": "stdout",
     "output_type": "stream",
     "text": [
      "tensor([[ 1.9269,  1.4873],\n",
      "        [ 0.9007, -2.1055],\n",
      "        [ 0.6784, -1.2345],\n",
      "        [-0.0431, -1.6047],\n",
      "        [-0.7521,  1.6487]])\n",
      "tensor([12.4460, -0.4663,  1.7666, -0.9357,  7.4781])\n"
     ]
    }
   ],
   "source": [
    "import torch\n",
    "import numpy as np\n",
    "import matplotlib.pyplot as plt\n",
    "\n",
    "# 随机种子，确保每次运行结果一致\n",
    "torch.manual_seed(42)\n",
    "\n",
    "# 生成训练数据\n",
    "X = torch.randn(100, 2)  # 100 个样本，每个样本 2 个特征\n",
    "true_w = torch.tensor([2.0, 3.0])  # 假设真实权重\n",
    "true_b = 4.0  # 偏置项\n",
    "Y = X @ true_w + true_b + torch.randn(100) * 0.1  # 加入一些噪声\n",
    "\n",
    "# 打印部分数据\n",
    "print(X[:5])\n",
    "print(Y[:5])"
   ]
  },
  {
   "cell_type": "markdown",
   "metadata": {},
   "source": [
    "## 定义线性回归模型"
   ]
  },
  {
   "cell_type": "code",
   "execution_count": 19,
   "metadata": {},
   "outputs": [],
   "source": [
    "import torch.nn as nn\n",
    "\n",
    "class linearRegressionModel(nn.Module):\n",
    "    def __init__(self):\n",
    "        super(linearRegressionModel, self).__init__()\n",
    "        self.linear = nn.Linear(2, 1)\n",
    "\n",
    "    def forward(self, x):\n",
    "        return self.linear(x)\n",
    "\n",
    "model = linearRegressionModel()"
   ]
  },
  {
   "cell_type": "markdown",
   "metadata": {},
   "source": [
    "## 定义损失函数和优化器·"
   ]
  },
  {
   "cell_type": "code",
   "execution_count": 20,
   "metadata": {},
   "outputs": [],
   "source": [
    "criterion = nn.MSELoss()\n",
    "optimizer = torch.optim.SGD(model.parameters(), lr = 0.01)"
   ]
  },
  {
   "cell_type": "markdown",
   "metadata": {},
   "source": [
    "## 训练模型"
   ]
  },
  {
   "cell_type": "code",
   "execution_count": 21,
   "metadata": {},
   "outputs": [
    {
     "name": "stdout",
     "output_type": "stream",
     "text": [
      "Epoch[100/1000], Loss:0.4569\n",
      "Epoch[200/1000], Loss:0.0142\n",
      "Epoch[300/1000], Loss:0.0082\n",
      "Epoch[400/1000], Loss:0.0081\n",
      "Epoch[500/1000], Loss:0.0081\n",
      "Epoch[600/1000], Loss:0.0081\n",
      "Epoch[700/1000], Loss:0.0081\n",
      "Epoch[800/1000], Loss:0.0081\n",
      "Epoch[900/1000], Loss:0.0081\n",
      "Epoch[1000/1000], Loss:0.0081\n"
     ]
    }
   ],
   "source": [
    "num_epocher = 1000\n",
    "for epoch in range(num_epocher):\n",
    "    model.train()\n",
    "    optimizer.zero_grad()\n",
    "\n",
    "    # 前向传播\n",
    "    Y_pred = model(X)\n",
    "    Loss = criterion(Y_pred.view(-1), Y)\n",
    "\n",
    "    # 反向传播\n",
    "    optimizer.zero_grad()\n",
    "    Loss.backward()\n",
    "    optimizer.step()\n",
    "\n",
    "    # 打印损失\n",
    "    if (epoch + 1) % 100 == 0:\n",
    "        print(f'Epoch[{epoch + 1}/1000], Loss:{Loss.item():.4f}')"
   ]
  },
  {
   "cell_type": "markdown",
   "metadata": {},
   "source": [
    "### 将损失展平为一维向量"
   ]
  },
  {
   "cell_type": "markdown",
   "metadata": {},
   "source": [
    "`.view(-1)` 和 `squeeze()` 的区别"
   ]
  },
  {
   "cell_type": "markdown",
   "metadata": {},
   "source": [
    "\n",
    "在 PyTorch 中，`.view(-1)` 和 `.squeeze()` 都是用于调整张量形状的方法，但它们的功能和应用场景有显著不同。以下是对两者的详细对比：\n",
    "\n",
    "#### 1. 功能\n",
    "- **`.view(-1)`**：将张量展平成一维张量，无论原始张量是什么形状，只要元素总数保持不变。例如，一个形状为 `(3, 4)` 的张量（共 12 个元素），使用 `.view(-1)` 后会变成形状为 `(12,)` 的一维张量。\n",
    "- **`.squeeze()`**：移除张量中所有大小为 1 的维度，但不会改变其他维度。例如，一个形状为 `(1, 3, 1, 4)` 的张量，使用 `.squeeze()` 后会变成 `(3, 4)`。\n"
   ]
  },
  {
   "cell_type": "markdown",
   "metadata": {},
   "source": [
    "\n",
    "#### 2. 返回形状\n",
    "- **`.view(-1)`**：总是返回一维张量，形状为 `(n,)`，其中 `n` 是张量中元素的总数。\n",
    "- **`.squeeze()`**：返回的形状取决于原始张量中大小为 1 的维度数量。如果没有大小为 1 的维度，形状保持不变。\n"
   ]
  },
  {
   "cell_type": "markdown",
   "metadata": {},
   "source": [
    "\n",
    "#### 3. 适用场景\n",
    "- **`.view(-1)`**：常用于需要将多维张量转换为一维的情况，例如在全连接层之前或计算损失函数（如交叉熵损失）时需要匹配一维输入。\n",
    "- **`.squeeze()`**：常用于清理不必要的维度，例如在处理 batch 维度或模型输出时移除大小为 1 的维度。\n"
   ]
  },
  {
   "cell_type": "markdown",
   "metadata": {},
   "source": [
    "\n",
    "#### 4. 对张量的要求\n",
    "- **`.view(-1)`**：适用于任何张量，只要新形状的元素总数与原张量一致即可。\n",
    "- **`.squeeze()`**：只对大小为 1 的维度起作用，对其他维度无影响。\n"
   ]
  },
  {
   "cell_type": "markdown",
   "metadata": {},
   "source": [
    "\n",
    "#### 示例对比\n",
    "假设有一个张量 `x`，我们来看看两种方法的效果：\n",
    "\n",
    "- **情况 1：`x` 的形状为 `(1, 3, 1, 4)`**\n",
    "  - `x.view(-1)`：返回形状为 `(12,)` 的一维张量（因为 1 × 3 × 1 × 4 = 12）。\n",
    "  - `x.squeeze()`：返回形状为 `(3, 4)` 的张量（移除了所有大小为 1 的维度）。\n",
    "\n",
    "- **情况 2：`x` 的形状为 `(3, 4)`**\n",
    "  - `x.view(-1)`：返回形状为 `(12,)` 的一维张量（因为 3 × 4 = 12）。\n",
    "  - `x.squeeze()`：返回形状为 `(3, 4)` 的张量（因为没有大小为 1 的维度可移除）。\n"
   ]
  },
  {
   "cell_type": "markdown",
   "metadata": {},
   "source": [
    "\n",
    "#### 实际应用举例\n",
    "在深度学习中，例如计算损失时，假设 `Y_pred` 是一个预测张量，形状为 `(batch_size, num_classes)`（如 `(32, 10)`），而目标 `Y` 是一维张量，形状为 `(batch_size,)`（如 `(32,)`）。代码如下：\n",
    "\n",
    "```python\n",
    "Loss = criterion(Y_pred.view(-1), Y)\n",
    "```\n",
    "\n",
    "这里使用 `.view(-1)` 将 `Y_pred` 从 `(32, 10)` 展平成 `(320,)`，以匹配损失函数的要求。如果使用 `.squeeze()`，则无法达到这个效果，因为 `(32, 10)` 中没有大小为 1 的维度，`.squeeze()` 不会有任何变化。\n"
   ]
  },
  {
   "cell_type": "markdown",
   "metadata": {},
   "source": [
    "\n",
    "#### 总结区别\n",
    "- **功能**：`.view(-1)` 强制展平为 1D，`.squeeze()` 只移除大小为 1 的维度。\n",
    "- **返回形状**：`.view(-1)` 总是 1D，`.squeeze()` 取决于原始张量。\n",
    "- **使用场景**：`.view(-1)` 用于需要一维输入的情况，`.squeeze()` 用于简化张量形状。\n",
    "\n",
    "因此，选择 `.view(-1)` 还是 `.squeeze()` 取决于你的具体需求：如果你需要一维张量，用 `.view(-1)`；如果只是想移除多余的 1 维度，用 `.squeeze()`。"
   ]
  },
  {
   "cell_type": "markdown",
   "metadata": {},
   "source": [
    "## 评估模型"
   ]
  },
  {
   "cell_type": "code",
   "execution_count": 22,
   "metadata": {},
   "outputs": [
    {
     "name": "stdout",
     "output_type": "stream",
     "text": [
      "Predicted weight: [[2.009702  2.9986038]]\n",
      "Predicted bias: [4.020908]\n"
     ]
    },
    {
     "data": {
      "image/png": "[encoded data removed]",
      "text/plain": [
       "<Figure size 640x480 with 1 Axes>"
      ]
     },
     "metadata": {},
     "output_type": "display_data"
    }
   ],
   "source": [
    "# 查看训练后的权重和偏置\n",
    "print(f'Predicted weight: {model.linear.weight.data.numpy()}')\n",
    "print(f'Predicted bias: {model.linear.bias.data.numpy()}')\n",
    "\n",
    "# 在新数据上做预测\n",
    "with torch.no_grad():  # 评估时不需要计算梯度\n",
    "    predictions = model(X)\n",
    "\n",
    "# 可视化预测与实际值\n",
    "plt.scatter(X[:, 0], Y, color='blue', label='True values')\n",
    "plt.scatter(X[:, 0], predictions, color='red', label='Predictions')\n",
    "plt.legend()\n",
    "plt.show()"
   ]
  }
 ],
 "metadata": {
  "kernelspec": {
   "display_name": "d2l",
   "language": "python",
   "name": "python3"
  },
  "language_info": {
   "codemirror_mode": {
    "name": "ipython",
    "version": 3
   },
   "file_extension": ".py",
   "mimetype": "text/x-python",
   "name": "python",
   "nbconvert_exporter": "python",
   "pygments_lexer": "ipython3",
   "version": "3.9.21"
  }
 },
 "nbformat": 4,
 "nbformat_minor": 2
}
