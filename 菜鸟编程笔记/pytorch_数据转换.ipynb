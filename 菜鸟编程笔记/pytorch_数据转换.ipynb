{
 "cells": [
  {
   "cell_type": "markdown",
   "metadata": {},
   "source": [
    "## 基础变换操作"
   ]
  },
  {
   "cell_type": "markdown",
   "metadata": {},
   "source": [
    "1. **ToTensor**\n",
    "\n",
    "将 PIL 图像或 NumPy 数组转换为 PyTorch 张量。\n",
    "同时将像素值从 [0, 255] 归一化为 [0, 1]。\n"
   ]
  },
  {
   "cell_type": "code",
   "execution_count": 1,
   "metadata": {},
   "outputs": [],
   "source": [
    "\n",
    "from torchvision import transforms\n",
    "transform = transforms.ToTensor()"
   ]
  },
  {
   "cell_type": "markdown",
   "metadata": {},
   "source": [
    "\n",
    "2. **Normalize**\n",
    "对数据进行标准化，使其符合特定的均值和标准差。\n",
    "通常用于图像数据，将像素值归一化为零均值和单位方差。\n"
   ]
  },
  {
   "cell_type": "code",
   "execution_count": null,
   "metadata": {},
   "outputs": [],
   "source": [
    "\n",
    "transform = transforms.Normalize(mean=[0.5], std=[0.5])  # 归一化到 [-1, 1]\n"
   ]
  },
  {
   "cell_type": "markdown",
   "metadata": {},
   "source": [
    "\n",
    "\n",
    "3. **Resize**\n",
    "调整图像的大小。\n"
   ]
  },
  {
   "cell_type": "code",
   "execution_count": null,
   "metadata": {},
   "outputs": [],
   "source": [
    "\n",
    "transform = transforms.Resize((128, 128))  # 将图像调整为 128x128\n"
   ]
  },
  {
   "cell_type": "markdown",
   "metadata": {},
   "source": [
    "\n",
    "4. **CenterCrop**\n",
    "从图像中心裁剪指定大小的区域。\n"
   ]
  },
  {
   "cell_type": "code",
   "execution_count": null,
   "metadata": {},
   "outputs": [],
   "source": [
    "\n",
    "transform = transforms.CenterCrop(128)  # 裁剪 128x128 的区域\n"
   ]
  },
  {
   "cell_type": "markdown",
   "metadata": {},
   "source": [
    "## 数据增强操作"
   ]
  },
  {
   "cell_type": "markdown",
   "metadata": {},
   "source": [
    "1. **RandomCrop**\n",
    "从图像中随机裁剪指定大小。\n",
    "```python\n",
    "transform = transforms.RandomCrop(128)\n",
    "```\n",
    "\n",
    "2. **RandomHorizontalFlip**\n",
    "以一定概率水平翻转图像。\n",
    "```python\n",
    "transform = transforms.RandomHorizontalFlip(p=0.5)  # 50% 概率翻转\n",
    "```\n",
    "\n",
    "3. **RandomRotation**\n",
    "随机旋转一定角度。\n",
    "```python\n",
    "transform = transforms.RandomRotation(degrees=30)  # 随机旋转 -30 到 +30 度\n",
    "```\n",
    "\n",
    "4. **ColorJitter**\n",
    "随机改变图像的亮度、对比度、饱和度或色调。\n",
    "```python\n",
    "transform = transforms.ColorJitter(brightness=0.5, contrast=0.5)\n",
    "```"
   ]
  },
  {
   "cell_type": "markdown",
   "metadata": {},
   "source": [
    "## 实例：对图像数据集应用转换"
   ]
  },
  {
   "cell_type": "code",
   "execution_count": 3,
   "metadata": {},
   "outputs": [
    {
     "name": "stdout",
     "output_type": "stream",
     "text": [
      "图片张量大小： torch.Size([32, 1, 128, 128])\n"
     ]
    }
   ],
   "source": [
    "from torchvision import datasets, transforms\n",
    "from torch.utils.data import DataLoader\n",
    "\n",
    "# 定义转换，这是一个组合转换, 将图像转换为 128x128 的大小，并归一化到 [-1, 1]\n",
    "transform = transforms.Compose([\n",
    "    transforms.Resize((128, 128)),\n",
    "    transforms.ToTensor(),\n",
    "    transforms.Normalize(mean=[0.5], std=[0.5])\n",
    "])\n",
    "\n",
    "# 加载数据集\n",
    "train_dataset = datasets.MNIST(root='./data', train=True, download=True, transform=transform)\n",
    "\n",
    "# 创建 DataLoader\n",
    "train_loader = DataLoader(train_dataset, batch_size=32, shuffle=True)\n",
    "\n",
    "# 查看转换后的数据\n",
    "for images, labels in train_loader:\n",
    "    print('图片张量大小：',images.size())\n",
    "    break"
   ]
  },
  {
   "cell_type": "markdown",
   "metadata": {},
   "source": [
    "----->可视化转换效果"
   ]
  },
  {
   "cell_type": "code",
   "execution_count": 6,
   "metadata": {},
   "outputs": [
    {
     "data": {
      "image/png": "[encoded data removed]",
      "text/plain": [
       "<Figure size 1500x500 with 5 Axes>"
      ]
     },
     "metadata": {},
     "output_type": "display_data"
    }
   ],
   "source": [
    "import matplotlib.pyplot as plt\n",
    "from torchvision import datasets\n",
    "from torchvision import datasets, transforms\n",
    "\n",
    "\n",
    "# 原始和增强后的图像可视化\n",
    "transform_augment = transforms.Compose([\n",
    "    transforms.RandomHorizontalFlip(),\n",
    "    transforms.RandomRotation(30),\n",
    "    transforms.ToTensor()\n",
    "])\n",
    "\n",
    "# 加载数据集\n",
    "dataset = datasets.MNIST(root='./data', train=True, download=True, transform=transform_augment)\n",
    "\n",
    "# 显示图像\n",
    "def show_images(dataset):\n",
    "    fig, axs = plt.subplots(1, 5, figsize=(15, 5))\n",
    "    for i in range(5):\n",
    "        image, label = dataset[i]\n",
    "        axs[i].imshow(image.squeeze(0), cmap='gray')  # 将 (1, H, W) 转为 (H, W)\n",
    "        axs[i].set_title(f\"Label: {label}\")\n",
    "        axs[i].axis('off')\n",
    "    plt.show()\n",
    "\n",
    "show_images(dataset)"
   ]
  },
  {
   "cell_type": "markdown",
   "metadata": {},
   "source": [
    "这是个测试模块"
   ]
  },
  {
   "cell_type": "markdown",
   "metadata": {},
   "source": [
    "## 测试推送信息"
   ]
  }
 ],
 "metadata": {
  "kernelspec": {
   "display_name": "d2l",
   "language": "python",
   "name": "python3"
  },
  "language_info": {
   "codemirror_mode": {
    "name": "ipython",
    "version": 3
   },
   "file_extension": ".py",
   "mimetype": "text/x-python",
   "name": "python",
   "nbconvert_exporter": "python",
   "pygments_lexer": "ipython3",
   "version": "3.9.21"
  }
 },
 "nbformat": 4,
 "nbformat_minor": 2
}
